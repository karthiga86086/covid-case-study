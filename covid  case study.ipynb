{
 "cells": [
  {
   "cell_type": "code",
   "execution_count": 1,
   "id": "221c493c",
   "metadata": {},
   "outputs": [],
   "source": [
    "import numpy as np\n",
    "import pandas as pd\n",
    "import matplotlib.pyplot as plt\n",
    "from sklearn.metrics import roc_auc_score\n",
    "from sklearn.metrics import roc_curve\n",
    "from sklearn.model_selection import train_test_split\n",
    "from sklearn.linear_model import LogisticRegression\n",
    "from sklearn.neighbors import KNeighborsClassifier\n",
    "from sklearn.metrics import confusion_matrix\n",
    "from sklearn.model_selection import GridSearchCV\n",
    "from sklearn.metrics import classification_report\n"
   ]
  },
  {
   "cell_type": "code",
   "execution_count": 2,
   "id": "af8898b8",
   "metadata": {},
   "outputs": [
    {
     "data": {
      "text/plain": [
       "(1001, 9)"
      ]
     },
     "execution_count": 2,
     "metadata": {},
     "output_type": "execute_result"
    }
   ],
   "source": [
    "df_train= pd.read_csv('covid_train.csv')\n",
    "df_test =pd.read_csv('covid_test.csv')\n",
    "df_test.head()\n",
    "df_train.shape"
   ]
  },
  {
   "cell_type": "code",
   "execution_count": 3,
   "id": "55bb178d",
   "metadata": {},
   "outputs": [],
   "source": [
    "X_train,y_train = df_train.drop(['Urgency'],axis=1),df_train['Urgency']\n",
    "X_test ,y_test = df_test.drop(['Urgency'],axis=1),df_test['Urgency']"
   ]
  },
  {
   "cell_type": "code",
   "execution_count": 4,
   "id": "8d56cfb7",
   "metadata": {},
   "outputs": [],
   "source": [
    "def best_classifier (clf,params,X,y,n_folds = 5):\n",
    "    gs=GridSearchCV(clf,param_grid=params,cv=n_folds)\n",
    "    gs.fit(X,y)\n",
    "    print (\"Best\",gs.best_params_,round(gs.best_score_,2))\n",
    "    best = gs.best_estimator_\n",
    "    return best"
   ]
  },
  {
   "cell_type": "code",
   "execution_count": 5,
   "id": "113786b4",
   "metadata": {},
   "outputs": [],
   "source": [
    "lr = LogisticRegression(solver='lbfgs',max_iter=10000)\n",
    "c_values = {\"C\":[1e-4,1e-3,1e-2,1e-1,1e0,1e1,1e2,1e3]}"
   ]
  },
  {
   "cell_type": "code",
   "execution_count": 6,
   "id": "6c1997cb",
   "metadata": {},
   "outputs": [
    {
     "name": "stdout",
     "output_type": "stream",
     "text": [
      "Best {'C': 0.1} 0.61\n"
     ]
    }
   ],
   "source": [
    "best = best_classifier(lr,c_values,X_train,y_train,n_folds=10)"
   ]
  },
  {
   "cell_type": "code",
   "execution_count": 7,
   "id": "deb3575f",
   "metadata": {},
   "outputs": [
    {
     "name": "stdout",
     "output_type": "stream",
     "text": [
      "Best {'C': 1.0} 0.61\n"
     ]
    }
   ],
   "source": [
    "best = best_classifier(lr,c_values,X_test,y_test,n_folds=10)"
   ]
  },
  {
   "cell_type": "code",
   "execution_count": 8,
   "id": "545a26c9",
   "metadata": {},
   "outputs": [
    {
     "name": "stdout",
     "output_type": "stream",
     "text": [
      "Accuracy for the test set for Logistic Regression =0.62\n"
     ]
    }
   ],
   "source": [
    "logreg = LogisticRegression(max_iter=100000,solver='lbfgs',C=0.1)\n",
    "logreg.fit(X_train,y_train)\n",
    "y_pred = logreg.predict(X_test)\n",
    "cm = confusion_matrix(y_test,y_pred)\n",
    "cm\n",
    "print(f'Accuracy for the test set for Logistic Regression ={(cm[0][0]+cm[1][1])/len(y_test):.2f}')"
   ]
  },
  {
   "cell_type": "code",
   "execution_count": 9,
   "id": "6bd2707f",
   "metadata": {},
   "outputs": [
    {
     "data": {
      "text/plain": [
       "251"
      ]
     },
     "execution_count": 9,
     "metadata": {},
     "output_type": "execute_result"
    }
   ],
   "source": [
    "len(y_test)"
   ]
  },
  {
   "cell_type": "code",
   "execution_count": 10,
   "id": "0f8edbda",
   "metadata": {},
   "outputs": [
    {
     "name": "stdout",
     "output_type": "stream",
     "text": [
      "Best {'n_neighbors': 7} 0.64\n"
     ]
    }
   ],
   "source": [
    "knn =KNeighborsClassifier()\n",
    "k_vals = np.arange(1,50,3)\n",
    "n_vals = {\"n_neighbors\":k_vals}\n",
    "best = best_classifier(knn,n_vals,X_train,y_train,n_folds=5)"
   ]
  },
  {
   "cell_type": "code",
   "execution_count": 11,
   "id": "53182061",
   "metadata": {},
   "outputs": [
    {
     "name": "stdout",
     "output_type": "stream",
     "text": [
      "Accuracy of knn reg is =0.622\n"
     ]
    }
   ],
   "source": [
    "knnreg =KNeighborsClassifier(n_neighbors=7)\n",
    "knnreg.fit(X_train,y_train)\n",
    "y_pred_knn = knnreg.predict(X_test)\n",
    "cmk_test =confusion_matrix (y_test,y_pred_knn)\n",
    "cmk_test\n",
    "print(f'Accuracy of knn reg is ={(cmk_test[0][0]+cmk_test[1][1])/len(y_test):.3f}')"
   ]
  },
  {
   "cell_type": "code",
   "execution_count": 12,
   "id": "5a24e172",
   "metadata": {},
   "outputs": [
    {
     "data": {
      "text/plain": [
       "Text(0.5, 1.0, 'knn regression')"
      ]
     },
     "execution_count": 12,
     "metadata": {},
     "output_type": "execute_result"
    },
    {
     "data": {
      "image/png": "[encoded data removed]",
      "text/plain": [
       "<Figure size 1296x432 with 4 Axes>"
      ]
     },
     "metadata": {
      "needs_background": "light"
     },
     "output_type": "display_data"
    }
   ],
   "source": [
    "import seaborn as sns\n",
    "fig,ax=plt.subplots(1,2,figsize=(18,6))\n",
    "dfk= pd.DataFrame(cmk_test,index =['low','high'],columns=['precdicted low','predicted high'])\n",
    "df= pd.DataFrame(cm,index =['low','high'],columns=['precdicted low','predicted high'])\n",
    "sns.set(font_scale=1.3)\n",
    "sns.heatmap(df.iloc[-1::-1,:], annot=True,fmt= 'g', ax = ax[0])\n",
    "ax[0].set_ylim([0,2]);\n",
    "ax[0].set_title('Logistic regression')\n",
    "sns.heatmap(dfk.iloc[-1::-1,:], annot=True,fmt= 'g', ax = ax[1])\n",
    "ax[1].set_ylim([0,2]);\n",
    "ax[1].set_title('knn regression')"
   ]
  },
  {
   "cell_type": "code",
   "execution_count": 13,
   "id": "1eeb7977",
   "metadata": {},
   "outputs": [
    {
     "name": "stdout",
     "output_type": "stream",
     "text": [
      "0.7238805970149254\n",
      "recall/Sensitivity= TP/TP+FP\n"
     ]
    }
   ],
   "source": [
    "recall = (cm[1][1])/cm.sum(axis=1)[1]\n",
    "print(recall)\n",
    "print('recall/Sensitivity= TP/TP+FP')"
   ]
  },
  {
   "cell_type": "code",
   "execution_count": 14,
   "id": "5816b333",
   "metadata": {},
   "outputs": [
    {
     "data": {
      "text/plain": [
       "0.6217948717948718"
      ]
     },
     "execution_count": 14,
     "metadata": {},
     "output_type": "execute_result"
    }
   ],
   "source": [
    "specificity = cm[1][1]/(cm[1][1]+cm[0][1])\n",
    "specificity"
   ]
  },
  {
   "cell_type": "code",
   "execution_count": 15,
   "id": "1ae65c36",
   "metadata": {},
   "outputs": [
    {
     "data": {
      "text/plain": [
       "0.6217948717948718"
      ]
     },
     "execution_count": 15,
     "metadata": {},
     "output_type": "execute_result"
    }
   ],
   "source": [
    "specificity_new = cm[1][1]/cm.sum(axis=0)[1]\n",
    "specificity_new"
   ]
  },
  {
   "cell_type": "code",
   "execution_count": 16,
   "id": "923224cd",
   "metadata": {},
   "outputs": [
    {
     "data": {
      "text/plain": [
       "0.6217948717948718"
      ]
     },
     "execution_count": 16,
     "metadata": {},
     "output_type": "execute_result"
    }
   ],
   "source": [
    "precision = cm[1][1]/cm.sum(axis=0)[1]\n",
    "precision"
   ]
  },
  {
   "cell_type": "code",
   "execution_count": 17,
   "id": "f7fde217",
   "metadata": {},
   "outputs": [
    {
     "data": {
      "text/plain": [
       "0.6689655172413793"
      ]
     },
     "execution_count": 17,
     "metadata": {},
     "output_type": "execute_result"
    }
   ],
   "source": [
    "f1_score = (2*precision*recall)/(recall+precision)\n",
    "f1_score"
   ]
  },
  {
   "cell_type": "code",
   "execution_count": 18,
   "id": "b40329e8",
   "metadata": {},
   "outputs": [
    {
     "name": "stdout",
     "output_type": "stream",
     "text": [
      "              precision    recall  f1-score   support\n",
      "\n",
      "           0       0.61      0.50      0.55       117\n",
      "           1       0.62      0.72      0.67       134\n",
      "\n",
      "    accuracy                           0.62       251\n",
      "   macro avg       0.62      0.61      0.61       251\n",
      "weighted avg       0.62      0.62      0.61       251\n",
      "\n"
     ]
    }
   ],
   "source": [
    "print(classification_report(y_test,logreg.predict(X_test)))"
   ]
  },
  {
   "cell_type": "code",
   "execution_count": 19,
   "id": "e92fa42c",
   "metadata": {},
   "outputs": [],
   "source": [
    "def plot_roc(test,logprobs,knnprobs,axis):\n",
    "    fpr, tpr, thresholds = roc_curve(test, logprobs)\n",
    "    kfpr, ktpr, kthresholds = roc_curve(test, knnprobs)\n",
    "    ax.plot(fpr, tpr, label=f'Logistic Regression (area = {logreg_auc:.2f})', color = 'b')\n",
    "    ax.plot(kfpr, ktpr, label=f'KNN (area = {knnreg_auc:.2f})', color = 'g')  \n",
    "    label_kwargs = {}\n",
    "    label_kwargs['bbox'] = dict(\n",
    "        boxstyle='round,pad=0.3', alpha=0.4,\n",
    "    )\n",
    "    ax.plot([0, 1], [0, 1],'r--')\n",
    "    ax.set_xlim([0.0, 1.0])\n",
    "    ax.set_ylim([0.0, 1.05])\n",
    "\n",
    "    ax.set_xlabel('False Positive Rate')\n",
    "    ax.set_ylabel('True Positive Rate')\n",
    "    ax.set_title('ROC curve')\n",
    "    ax.legend(loc=\"lower right\")\n"
   ]
  },
  {
   "cell_type": "code",
   "execution_count": 21,
   "id": "d3f31251",
   "metadata": {},
   "outputs": [
    {
     "ename": "NameError",
     "evalue": "name 'logreg_auc' is not defined",
     "output_type": "error",
     "traceback": [
      "\u001b[1;31m---------------------------------------------------------------------------\u001b[0m",
      "\u001b[1;31mNameError\u001b[0m                                 Traceback (most recent call last)",
      "\u001b[1;32m<ipython-input-21-1788704af321>\u001b[0m in \u001b[0;36m<module>\u001b[1;34m\u001b[0m\n\u001b[0;32m      5\u001b[0m \u001b[0mfig\u001b[0m\u001b[1;33m.\u001b[0m\u001b[0mpatch\u001b[0m\u001b[1;33m.\u001b[0m\u001b[0mset_facecolor\u001b[0m\u001b[1;33m(\u001b[0m\u001b[1;34m'None'\u001b[0m\u001b[1;33m)\u001b[0m\u001b[1;33m\u001b[0m\u001b[1;33m\u001b[0m\u001b[0m\n\u001b[0;32m      6\u001b[0m \u001b[0mfig\u001b[0m\u001b[1;33m.\u001b[0m\u001b[0mpatch\u001b[0m\u001b[1;33m.\u001b[0m\u001b[0mset_alpha\u001b[0m\u001b[1;33m(\u001b[0m\u001b[1;36m0\u001b[0m\u001b[1;33m)\u001b[0m\u001b[1;33m\u001b[0m\u001b[1;33m\u001b[0m\u001b[0m\n\u001b[1;32m----> 7\u001b[1;33m \u001b[0mplot_roc\u001b[0m\u001b[1;33m(\u001b[0m\u001b[0my_test\u001b[0m\u001b[1;33m,\u001b[0m\u001b[0my_probs\u001b[0m\u001b[1;33m,\u001b[0m\u001b[0my_kprobs\u001b[0m\u001b[1;33m,\u001b[0m\u001b[0max\u001b[0m\u001b[1;33m)\u001b[0m\u001b[1;33m\u001b[0m\u001b[1;33m\u001b[0m\u001b[0m\n\u001b[0m\u001b[0;32m      8\u001b[0m \u001b[1;33m[\u001b[0m\u001b[0max\u001b[0m\u001b[1;33m.\u001b[0m\u001b[0mspines\u001b[0m\u001b[1;33m[\u001b[0m\u001b[0mkey\u001b[0m\u001b[1;33m]\u001b[0m\u001b[1;33m.\u001b[0m\u001b[0mset_visible\u001b[0m\u001b[1;33m(\u001b[0m\u001b[1;32mFalse\u001b[0m\u001b[1;33m)\u001b[0m \u001b[1;32mfor\u001b[0m \u001b[0mkey\u001b[0m \u001b[1;32min\u001b[0m \u001b[0max\u001b[0m\u001b[1;33m.\u001b[0m\u001b[0mspines\u001b[0m\u001b[1;33m.\u001b[0m\u001b[0mkeys\u001b[0m\u001b[1;33m(\u001b[0m\u001b[1;33m)\u001b[0m \u001b[1;32mif\u001b[0m \u001b[0mkey\u001b[0m \u001b[1;32mnot\u001b[0m \u001b[1;32min\u001b[0m \u001b[1;33m[\u001b[0m\u001b[1;34m'bottom'\u001b[0m\u001b[1;33m,\u001b[0m\u001b[1;34m'left'\u001b[0m\u001b[1;33m]\u001b[0m\u001b[1;33m]\u001b[0m\u001b[1;33m;\u001b[0m\u001b[1;33m\u001b[0m\u001b[1;33m\u001b[0m\u001b[0m\n\u001b[0;32m      9\u001b[0m \u001b[0max\u001b[0m\u001b[1;33m.\u001b[0m\u001b[0mpatch\u001b[0m\u001b[1;33m.\u001b[0m\u001b[0mset_facecolor\u001b[0m\u001b[1;33m(\u001b[0m\u001b[1;34m'None'\u001b[0m\u001b[1;33m)\u001b[0m\u001b[1;33m\u001b[0m\u001b[1;33m\u001b[0m\u001b[0m\n",
      "\u001b[1;32m<ipython-input-19-25dee4edd154>\u001b[0m in \u001b[0;36mplot_roc\u001b[1;34m(test, logprobs, knnprobs, axis)\u001b[0m\n\u001b[0;32m      2\u001b[0m     \u001b[0mfpr\u001b[0m\u001b[1;33m,\u001b[0m \u001b[0mtpr\u001b[0m\u001b[1;33m,\u001b[0m \u001b[0mthresholds\u001b[0m \u001b[1;33m=\u001b[0m \u001b[0mroc_curve\u001b[0m\u001b[1;33m(\u001b[0m\u001b[0mtest\u001b[0m\u001b[1;33m,\u001b[0m \u001b[0mlogprobs\u001b[0m\u001b[1;33m)\u001b[0m\u001b[1;33m\u001b[0m\u001b[1;33m\u001b[0m\u001b[0m\n\u001b[0;32m      3\u001b[0m     \u001b[0mkfpr\u001b[0m\u001b[1;33m,\u001b[0m \u001b[0mktpr\u001b[0m\u001b[1;33m,\u001b[0m \u001b[0mkthresholds\u001b[0m \u001b[1;33m=\u001b[0m \u001b[0mroc_curve\u001b[0m\u001b[1;33m(\u001b[0m\u001b[0mtest\u001b[0m\u001b[1;33m,\u001b[0m \u001b[0mknnprobs\u001b[0m\u001b[1;33m)\u001b[0m\u001b[1;33m\u001b[0m\u001b[1;33m\u001b[0m\u001b[0m\n\u001b[1;32m----> 4\u001b[1;33m     \u001b[0max\u001b[0m\u001b[1;33m.\u001b[0m\u001b[0mplot\u001b[0m\u001b[1;33m(\u001b[0m\u001b[0mfpr\u001b[0m\u001b[1;33m,\u001b[0m \u001b[0mtpr\u001b[0m\u001b[1;33m,\u001b[0m \u001b[0mlabel\u001b[0m\u001b[1;33m=\u001b[0m\u001b[1;34mf'Logistic Regression (area = {logreg_auc:.2f})'\u001b[0m\u001b[1;33m,\u001b[0m \u001b[0mcolor\u001b[0m \u001b[1;33m=\u001b[0m \u001b[1;34m'b'\u001b[0m\u001b[1;33m)\u001b[0m\u001b[1;33m\u001b[0m\u001b[1;33m\u001b[0m\u001b[0m\n\u001b[0m\u001b[0;32m      5\u001b[0m     \u001b[0max\u001b[0m\u001b[1;33m.\u001b[0m\u001b[0mplot\u001b[0m\u001b[1;33m(\u001b[0m\u001b[0mkfpr\u001b[0m\u001b[1;33m,\u001b[0m \u001b[0mktpr\u001b[0m\u001b[1;33m,\u001b[0m \u001b[0mlabel\u001b[0m\u001b[1;33m=\u001b[0m\u001b[1;34mf'KNN (area = {knnreg_auc:.2f})'\u001b[0m\u001b[1;33m,\u001b[0m \u001b[0mcolor\u001b[0m \u001b[1;33m=\u001b[0m \u001b[1;34m'g'\u001b[0m\u001b[1;33m)\u001b[0m\u001b[1;33m\u001b[0m\u001b[1;33m\u001b[0m\u001b[0m\n\u001b[0;32m      6\u001b[0m     \u001b[0mlabel_kwargs\u001b[0m \u001b[1;33m=\u001b[0m \u001b[1;33m{\u001b[0m\u001b[1;33m}\u001b[0m\u001b[1;33m\u001b[0m\u001b[1;33m\u001b[0m\u001b[0m\n",
      "\u001b[1;31mNameError\u001b[0m: name 'logreg_auc' is not defined"
     ]
    },
    {
     "data": {
      "image/png": "[encoded data removed]",
      "text/plain": [
       "<Figure size 504x360 with 1 Axes>"
      ]
     },
     "metadata": {
      "needs_background": "light"
     },
     "output_type": "display_data"
    }
   ],
   "source": [
    "plt.xkcd(randomness=0,scale=0.1)\n",
    "y_probs = logreg.predict_proba(X_test)[:,1]\n",
    "y_kprobs = knnreg.predict_proba(X_test)[:,1]\n",
    "fig, ax = plt.subplots(figsize = (7,5))\n",
    "fig.patch.set_facecolor('None')\n",
    "fig.patch.set_alpha(0)\n",
    "plot_roc(y_test,y_probs,y_kprobs,ax)\n",
    "[ax.spines[key].set_visible(False) for key in ax.spines.keys() if key not in ['bottom','left']];\n",
    "ax.patch.set_facecolor('None')\n",
    "ax.patch.set_alpha(0)\n",
    "plt.tight_layout()\n"
   ]
  },
  {
   "cell_type": "code",
   "execution_count": null,
   "id": "7b327e69",
   "metadata": {},
   "outputs": [],
   "source": []
  },
  {
   "cell_type": "code",
   "execution_count": null,
   "id": "1db92eab",
   "metadata": {},
   "outputs": [],
   "source": []
  }
 ],
 "metadata": {
  "kernelspec": {
   "display_name": "Python 3",
   "language": "python",
   "name": "python3"
  },
  "language_info": {
   "codemirror_mode": {
    "name": "ipython",
    "version": 3
   },
   "file_extension": ".py",
   "mimetype": "text/x-python",
   "name": "python",
   "nbconvert_exporter": "python",
   "pygments_lexer": "ipython3",
   "version": "3.8.8"
  }
 },
 "nbformat": 4,
 "nbformat_minor": 5
}
